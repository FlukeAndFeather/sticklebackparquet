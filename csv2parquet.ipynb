{
 "cells": [
  {
   "cell_type": "markdown",
   "metadata": {},
   "source": [
    "# Stickleback case study data prep\n",
    "CSV -> Parquet\n",
    "\n",
    "For details about Parquet and Python, see https://arrow.apache.org/docs/python/parquet.html.\n",
    "\n",
    "Before proceeding, get the case study data from [here](https://drive.google.com/drive/folders/1OHZNjPtekwC8cQ0YviPSz0GNl6Q86kNh). Download the v4 folder as a zip file, rename it \"sticklebackdatav4.zip\" and put it in the same folder as this notebook. Yes, this is a hacky solution. No, I don't have time to make it more robust."
   ]
  },
  {
   "cell_type": "code",
   "execution_count": 24,
   "metadata": {},
   "outputs": [],
   "source": [
    "import os\n",
    "import pandas as pd\n",
    "import shutil\n",
    "import zipfile"
   ]
  },
  {
   "cell_type": "markdown",
   "metadata": {},
   "source": [
    "## Read data\n",
    "Unzip data and load CSV files into memory as Pandas DataFrames."
   ]
  },
  {
   "cell_type": "code",
   "execution_count": 25,
   "metadata": {},
   "outputs": [],
   "source": [
    "# Check the v4 data exists \n",
    "if not os.path.exists(\"sticklebackdatav4.zip\"):\n",
    "    raise FileNotFoundError(\"sticklebackdatav4.zip not found\")\n",
    "\n",
    "# Unzip v4 data\n",
    "if os.path.exists(\"v4\"):\n",
    "    shutil.rmtree(\"v4\")\n",
    "os.makedirs(\"v4\")\n",
    "with zipfile.ZipFile(\"sticklebackdatav4.zip\", \"r\") as v4zip:\n",
    "    v4zip.extractall(\"v4\")"
   ]
  },
  {
   "cell_type": "code",
   "execution_count": null,
   "metadata": {},
   "outputs": [],
   "source": [
    "# Read CSVs\n",
    "sensors = pd.read_csv(\"v4/sensors.csv\").set_index(\"datetime\")\n",
    "sensors.index = pd.to_datetime(sensors.index)\n",
    "events = pd.read_csv(\"v4/events.csv\").set_index(\"datetime\")\n",
    "events.index = pd.to_datetime(events.index)"
   ]
  },
  {
   "cell_type": "markdown",
   "metadata": {},
   "source": [
    "## Convert to Parquet\n",
    "Put the output in a directory called \"v5\". Make sure the \"pyarrow\" package is installed."
   ]
  },
  {
   "cell_type": "code",
   "execution_count": null,
   "metadata": {},
   "outputs": [],
   "source": [
    "if os.path.exists(\"v5\"):\n",
    "    shutil.rmtree(\"v5\")\n",
    "os.makedirs(\"v5\")\n",
    "sensors.to_parquet(\"v5/sensors.parquet\")\n",
    "events.to_parquet(\"v5/events.parquet\")"
   ]
  }
 ],
 "metadata": {
  "interpreter": {
   "hash": "00662bc02c00644dd8212dcb29a46482c6b8f8c77ab5a5e8cb596345b2190817"
  },
  "kernelspec": {
   "display_name": "Python 3.9.12 ('utime')",
   "language": "python",
   "name": "python3"
  },
  "language_info": {
   "codemirror_mode": {
    "name": "ipython",
    "version": 3
   },
   "file_extension": ".py",
   "mimetype": "text/x-python",
   "name": "python",
   "nbconvert_exporter": "python",
   "pygments_lexer": "ipython3",
   "version": "3.9.12"
  },
  "orig_nbformat": 4
 },
 "nbformat": 4,
 "nbformat_minor": 2
}
